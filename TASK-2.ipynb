{
 "cells": [
  {
   "cell_type": "markdown",
   "id": "918d8c51",
   "metadata": {},
   "source": [
    "# 1.Defanging an IP Address\n",
    "### Given a valid (IPv4) IP address, return a defanged version of that IP address.\n",
    "\n",
    "### A defanged IP address replaces every period \".\" with \"[.]\"."
   ]
  },
  {
   "cell_type": "code",
   "execution_count": 7,
   "id": "64df86f3",
   "metadata": {},
   "outputs": [],
   "source": [
    "class Solution:\n",
    "    def defangIPaddr(self, address: str) -> str:\n",
    "        address = address.replace('.','[.]')\n",
    "        return address"
   ]
  },
  {
   "cell_type": "markdown",
   "id": "90d188df",
   "metadata": {},
   "source": [
    "# 2.Find Numbers with Even Number of Digits\n",
    "### Given an array nums of integers, return how many of them contain an even number of digits."
   ]
  },
  {
   "cell_type": "code",
   "execution_count": 8,
   "id": "2aa60d56",
   "metadata": {},
   "outputs": [],
   "source": [
    "class Solution:\n",
    "    def findNumbers(self, nums: list[int]) -> int:\n",
    "        res = 0\n",
    "        for i in nums:\n",
    "            if len(str(i))%2 == 0:\n",
    "                res += 1\n",
    "        return res"
   ]
  },
  {
   "cell_type": "markdown",
   "id": "c3acccf4",
   "metadata": {},
   "source": [
    "# 3.Number of Good Pairs\n",
    "### Given an array of integers nums, return the number of good pairs.\n",
    "\n",
    "### A pair (i, j) is called good if nums[i] == nums[j] and i < j. "
   ]
  },
  {
   "cell_type": "code",
   "execution_count": 9,
   "id": "d8f87cd2",
   "metadata": {},
   "outputs": [],
   "source": [
    "import collections\n",
    "class Solution:\n",
    "    def numIdenticalPairs(self, nums: list[int]) -> int:\n",
    "        d = collections.defaultdict(int)\n",
    "        res  = 0\n",
    "        for i in nums:\n",
    "            d[i] += 1\n",
    "        for i in d.values():\n",
    "            if i > 1:\n",
    "                res += int((i*(i-1))/2)\n",
    "        return res"
   ]
  },
  {
   "cell_type": "markdown",
   "id": "2f2acb33",
   "metadata": {},
   "source": [
    "# 4.How Many Numbers Are Smaller Than the Current\n",
    "### Given the array nums, for each nums[i] find out how many numbers in the array are smaller than it. That is, for each nums[i] you have to count the number of valid j's such that j != i and nums[j] < nums[i]."
   ]
  },
  {
   "cell_type": "code",
   "execution_count": 10,
   "id": "f08d1f3f",
   "metadata": {},
   "outputs": [],
   "source": [
    "class Solution:\n",
    "    def smallerNumbersThanCurrent(self, nums: list[int]) -> list[int]:\n",
    "        temp = [0]*101\n",
    "        for i in nums:\n",
    "            temp[i] += 1\n",
    "        res = []\n",
    "        for i in nums:\n",
    "            res.append(sum(temp[:i]))\n",
    "        return res"
   ]
  },
  {
   "cell_type": "markdown",
   "id": "d67b7281",
   "metadata": {},
   "source": [
    "# 5.Subtract the Product and Sum of Digits of an Integer\n",
    "### Given an integer number n, return the difference between the product of its digits and the sum of its digits."
   ]
  },
  {
   "cell_type": "code",
   "execution_count": 11,
   "id": "dc79f2e2",
   "metadata": {},
   "outputs": [],
   "source": [
    "class Solution:\n",
    "    def subtractProductAndSum(self, n: int) -> int:\n",
    "        n = str(n)\n",
    "        prod = 1\n",
    "        sum = 0\n",
    "        for i in n:\n",
    "            prod *= int(i)\n",
    "            sum += int(i)\n",
    "        return int(prod-sum)\n",
    "        "
   ]
  },
  {
   "cell_type": "markdown",
   "id": "7c7013e1",
   "metadata": {},
   "source": [
    "# 6. XOR Operation in an Array\n",
    "### You are given an integer n and an integer start.\n",
    "### Define an array nums where nums[i] = start + 2 * i (0-indexed) and n == nums.length.Return the bitwise XOR of all elements of nums."
   ]
  },
  {
   "cell_type": "code",
   "execution_count": 21,
   "id": "3ba8f4b4",
   "metadata": {},
   "outputs": [],
   "source": [
    "class Solution:\n",
    "    def xorOperation(self, n: int, start: int) -> int:\n",
    "        res = 0\n",
    "        for i in range(n):\n",
    "            res ^= start + (2*i)\n",
    "        return res\n"
   ]
  }
 ],
 "metadata": {
  "kernelspec": {
   "display_name": "Python 3 (ipykernel)",
   "language": "python",
   "name": "python3"
  },
  "language_info": {
   "codemirror_mode": {
    "name": "ipython",
    "version": 3
   },
   "file_extension": ".py",
   "mimetype": "text/x-python",
   "name": "python",
   "nbconvert_exporter": "python",
   "pygments_lexer": "ipython3",
   "version": "3.9.12"
  }
 },
 "nbformat": 4,
 "nbformat_minor": 5
}
