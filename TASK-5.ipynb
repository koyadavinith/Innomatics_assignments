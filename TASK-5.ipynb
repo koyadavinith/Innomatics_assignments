{
 "cells": [
  {
   "cell_type": "markdown",
   "id": "4464b245",
   "metadata": {},
   "source": [
    "# 1.Subsets\n",
    "**Given an integer array nums of unique elements, return all possible \n",
    "subsets\n",
    " (the power set).\n",
    "\n",
    "The solution set must not contain duplicate subsets. Return the solution in any order.**"
   ]
  },
  {
   "cell_type": "code",
   "execution_count": 24,
   "id": "e156e40d",
   "metadata": {},
   "outputs": [],
   "source": [
    "class Solution(object):\n",
    "    def subsets(self, nums):\n",
    "        \"\"\"\n",
    "        :type nums: List[int]\n",
    "        :rtype: List[List[int]]\n",
    "        \"\"\"\n",
    "        def dfs(nums, index, path, res):\n",
    "            if index == len(nums):\n",
    "                res.append(path)\n",
    "                return \n",
    "            dfs(nums, index+1, path+[nums[index]], res)\n",
    "            dfs(nums, index+1, path, res)\n",
    "        res = []\n",
    "        dfs(nums, 0, [], res)\n",
    "        return res"
   ]
  },
  {
   "cell_type": "markdown",
   "id": "f607f65f",
   "metadata": {},
   "source": [
    "# 2.Hamming Distance\n",
    "The Hamming distance between two integers is the number of positions at which the corresponding bits are different."
   ]
  },
  {
   "cell_type": "code",
   "execution_count": 28,
   "id": "9ac63868",
   "metadata": {},
   "outputs": [],
   "source": [
    "class Solution:\n",
    "    def hammingDistance(self, x: int, y: int) -> int:\n",
    "        m = max(x,y)\n",
    "        res  = 0\n",
    "        a,b = bin(x)[2:],bin(y)[2:]\n",
    "        if x == m:\n",
    "            b = '0'*(len(a)-len(b))+ b\n",
    "        else:\n",
    "            a = '0'*(len(b)-len(a))+ a\n",
    "        for i,j in zip(a,b):\n",
    "            if i != j:\n",
    "                res +=1\n",
    "        return res"
   ]
  },
  {
   "cell_type": "markdown",
   "id": "72b7bf18",
   "metadata": {},
   "source": [
    "# 3.Single Number II\n",
    "Given an integer array nums where every element appears three times except for one, which appears exactly once. Find the single element and return it.\n",
    "\n",
    "You must implement a solution with a linear runtime complexity and use only constant extra space."
   ]
  },
  {
   "cell_type": "code",
   "execution_count": 30,
   "id": "8ac45523",
   "metadata": {},
   "outputs": [],
   "source": [
    "class Solution:\n",
    "    def singleNumber(self, nums: list[int]) -> int:\n",
    "        d = {i:0 for i in nums}\n",
    "        for i in nums:\n",
    "            d[i] += 1\n",
    "        for i in d:\n",
    "            if d[i] == 1:\n",
    "                return i"
   ]
  }
 ],
 "metadata": {
  "kernelspec": {
   "display_name": "Python 3 (ipykernel)",
   "language": "python",
   "name": "python3"
  },
  "language_info": {
   "codemirror_mode": {
    "name": "ipython",
    "version": 3
   },
   "file_extension": ".py",
   "mimetype": "text/x-python",
   "name": "python",
   "nbconvert_exporter": "python",
   "pygments_lexer": "ipython3",
   "version": "3.9.12"
  }
 },
 "nbformat": 4,
 "nbformat_minor": 5
}
