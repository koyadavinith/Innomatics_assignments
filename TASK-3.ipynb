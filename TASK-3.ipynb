{
 "cells": [
  {
   "cell_type": "markdown",
   "id": "3a733a8e",
   "metadata": {},
   "source": [
    "#  1.Maximum Product of Two Elements in an Array\n",
    "**Given the array of integers nums, you will choose two different indices i and j of that array. Return the maximum value of (nums[i]-1)*(nums[j]-1).**"
   ]
  },
  {
   "cell_type": "code",
   "execution_count": 22,
   "id": "415f323a",
   "metadata": {},
   "outputs": [],
   "source": [
    "class Solution:\n",
    "    def maxProduct(self, nums: list[int]) -> int:\n",
    "        max1 = max(nums)\n",
    "        nums.remove(max1)\n",
    "        max2 = max(nums)\n",
    "        return (max1-1)*(max2-1)"
   ]
  },
  {
   "cell_type": "markdown",
   "id": "537c7ee4",
   "metadata": {},
   "source": [
    "# 2. Count Number of Teams\n",
    "**There are n soldiers standing in a line. Each soldier is assigned a unique rating value.\n",
    "\n",
    "You have to form a team of 3 soldiers amongst them under the following rules:\n",
    "\n",
    "Choose 3 soldiers with index (i, j, k) with rating (rating[i], rating[j], rating[k]).\n",
    "A team is valid if: (rating[i] < rating[j] < rating[k]) or (rating[i] > rating[j] > rating[k]) where (0 <= i < j < k < n).\n",
    "Return the number of teams you can form given the conditions. (soldiers can be part of multiple teams).**"
   ]
  },
  {
   "cell_type": "code",
   "execution_count": 1,
   "id": "9aef1fb9",
   "metadata": {},
   "outputs": [],
   "source": [
    "class Solution:\n",
    "    def numTeams(self, rating: list[int]) -> int:\n",
    "        res = 0\n",
    "        for i in range(1,len(rating)-1):\n",
    "            leftnums = [0,0]\n",
    "            rightnums = [0,0]\n",
    "            l,r = 0,i+1\n",
    "            while l < i:\n",
    "                if rating[l] < rating[i]:\n",
    "                    leftnums[0] += 1\n",
    "                elif rating[l] > rating[i]:\n",
    "                    leftnums[1] += 1 \n",
    "                l += 1\n",
    "            while r < len(rating):\n",
    "                if rating[i] < rating[r]:\n",
    "                    rightnums[0] += 1\n",
    "                elif rating[i] > rating[r]:\n",
    "                    rightnums[1] += 1\n",
    "                r += 1\n",
    "            res += leftnums[0]*rightnums[0] + leftnums[1]*rightnums[1]\n",
    "\n",
    "        return res\n"
   ]
  },
  {
   "cell_type": "markdown",
   "id": "aedeb245",
   "metadata": {},
   "source": [
    "# 3.Number of Students Doing Homework at a Given\n",
    "**Given two integer arrays startTime and endTime and given an integer queryTime.\n",
    "The ith student started doing their homework at the time startTime[i] and finished it at time endTime[i].\n",
    "Return the number of students doing their homework at time queryTime. More formally, return the number of students where queryTime lays in the interval [startTime[i], endTime[i]] inclusive.**"
   ]
  },
  {
   "cell_type": "code",
   "execution_count": 2,
   "id": "a0cd28ed",
   "metadata": {},
   "outputs": [],
   "source": [
    "class Solution:\n",
    "    def busyStudent(self, startTime: list[int], endTime: list[int], queryTime: int) -> int:\n",
    "        res = 0\n",
    "        for i,j in zip(startTime,endTime):\n",
    "            if i <= queryTime and queryTime <= j:\n",
    "                res += 1\n",
    "        return res"
   ]
  },
  {
   "cell_type": "markdown",
   "id": "2aa1e307",
   "metadata": {},
   "source": [
    "# 4.Number of Steps to Reduce a Number to Zero\n",
    "**Given an integer num, return the number of steps to reduce it to zero.\n",
    "n one step, if the current number is even, you have to divide it by 2, otherwise, you have to subtract 1 from it.**"
   ]
  },
  {
   "cell_type": "code",
   "execution_count": 3,
   "id": "003dd4d6",
   "metadata": {},
   "outputs": [],
   "source": [
    "import math\n",
    "class Solution:\n",
    "    def numberOfSteps(self, num: int) -> int:\n",
    "        res = 0\n",
    "        while True:\n",
    "            if num == 0:\n",
    "                break\n",
    "            if num % 2 == 0:\n",
    "                num = num/2\n",
    "            else:\n",
    "                num  = num -1\n",
    "            res += 1\n",
    "        return res"
   ]
  },
  {
   "cell_type": "markdown",
   "id": "aec2fc6a",
   "metadata": {},
   "source": [
    "# 5.Counting Bits\n",
    "**Given an integer n, return an array ans of length n + 1 such that for each i (0 <= i <= n), ans[i] is the number of 1's in the binary representation of i.**"
   ]
  },
  {
   "cell_type": "code",
   "execution_count": 14,
   "id": "a49d4368",
   "metadata": {},
   "outputs": [],
   "source": [
    "class Solution:\n",
    "    def countBits(self, n: int) -> list[int]:\n",
    "        res = []\n",
    "        for i in range(n+1):\n",
    "            res.append(bin(i)[2:].count('1'))\n",
    "        return res"
   ]
  }
 ],
 "metadata": {
  "kernelspec": {
   "display_name": "Python 3 (ipykernel)",
   "language": "python",
   "name": "python3"
  },
  "language_info": {
   "codemirror_mode": {
    "name": "ipython",
    "version": 3
   },
   "file_extension": ".py",
   "mimetype": "text/x-python",
   "name": "python",
   "nbconvert_exporter": "python",
   "pygments_lexer": "ipython3",
   "version": "3.9.12"
  }
 },
 "nbformat": 4,
 "nbformat_minor": 5
}
