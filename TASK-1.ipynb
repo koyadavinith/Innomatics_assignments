{
 "cells": [
  {
   "cell_type": "markdown",
   "id": "43f95cb4",
   "metadata": {},
   "source": [
    "# 1.Running Sum of 1d Array\n",
    "### Given an array nums. We define a running sum of an array as runningSum[i] = sum(nums[0]…nums[i]).  \n",
    "### Return the running sum of nums."
   ]
  },
  {
   "cell_type": "code",
   "execution_count": 4,
   "id": "c441341c",
   "metadata": {},
   "outputs": [],
   "source": [
    "class Solution:\n",
    "    def runningSum(self, nums: list[int]) -> list[int]:\n",
    "        temp = 0\n",
    "        res = []\n",
    "        for i in nums:\n",
    "            temp += i\n",
    "            res.append(temp)\n",
    "        return res"
   ]
  },
  {
   "cell_type": "markdown",
   "id": "c9d4fc1a",
   "metadata": {},
   "source": [
    "# 2.Shuffle the Array\n",
    "### Given the array nums consisting of 2n elements in the form [x1,x2,...,xn,y1,y2,...,yn].\n",
    "\n",
    "### Return the array in the form [x1,y1,x2,y2,...,xn,yn]."
   ]
  },
  {
   "cell_type": "code",
   "execution_count": 5,
   "id": "eecc6def",
   "metadata": {},
   "outputs": [],
   "source": [
    "class Solution:\n",
    "    def shuffle(self, nums: list[int], n: int) -> list[int]:\n",
    "        X = nums[:n]\n",
    "        Y = nums[n:]\n",
    "        res = []\n",
    "        for x,y in zip(X,Y):\n",
    "            res.append(x)\n",
    "            res.append(y)\n",
    "        return res"
   ]
  },
  {
   "cell_type": "markdown",
   "id": "97be54b2",
   "metadata": {},
   "source": [
    "# 3.Kids With the Greatest Number of Candies\n",
    "### There are n kids with candies. You are given an integer array candies, where each candies[i] represents the number of candies the ith kid has, and an integer extraCandies, denoting the number of extra candies that you have."
   ]
  },
  {
   "cell_type": "code",
   "execution_count": 6,
   "id": "2eaf5de4",
   "metadata": {},
   "outputs": [],
   "source": [
    "class Solution:\n",
    "    def kidsWithCandies(self, candies: list[int], extraCandies: int) -> list[bool]:\n",
    "        max_num = max(candies)\n",
    "        res = []\n",
    "        for i in candies:\n",
    "            res.append(i + extraCandies >= max_num)\n",
    "        return res\n"
   ]
  }
 ],
 "metadata": {
  "kernelspec": {
   "display_name": "Python 3 (ipykernel)",
   "language": "python",
   "name": "python3"
  },
  "language_info": {
   "codemirror_mode": {
    "name": "ipython",
    "version": 3
   },
   "file_extension": ".py",
   "mimetype": "text/x-python",
   "name": "python",
   "nbconvert_exporter": "python",
   "pygments_lexer": "ipython3",
   "version": "3.9.12"
  }
 },
 "nbformat": 4,
 "nbformat_minor": 5
}
