{
 "cells": [
  {
   "cell_type": "markdown",
   "id": "31687def",
   "metadata": {},
   "source": [
    "# 1.Single Number\n",
    "**Given a non-empty array of integers nums, every element appears twice except for one. Find that single one.\n",
    "\n",
    "You must implement a solution with a linear runtime complexity and use only constant extra space.**"
   ]
  },
  {
   "cell_type": "code",
   "execution_count": 16,
   "id": "0ead8302",
   "metadata": {},
   "outputs": [],
   "source": [
    "class Solution:\n",
    "    def singleNumber(self, nums: list[int]) -> int:\n",
    "        for i in nums:\n",
    "            if nums.count(i) == 1:\n",
    "                return i"
   ]
  },
  {
   "cell_type": "markdown",
   "id": "05429f70",
   "metadata": {},
   "source": [
    "# 2.Sort Integers by The Number of 1 Bits\n",
    "**You are given an integer array arr. Sort the integers in the array in ascending order by the number of 1's in their binary representation and in case of two or more integers have the same number of 1's you have to sort them in ascending order.\n",
    "**"
   ]
  },
  {
   "cell_type": "code",
   "execution_count": 18,
   "id": "3e9f9061",
   "metadata": {},
   "outputs": [],
   "source": [
    "class Solution:\n",
    "    def sortByBits(self, arr: list[int]) -> list[int]:\n",
    "        d = {}\n",
    "        for i in arr:\n",
    "            d[i]= bin(i)[2:].count('1')\n",
    "        return sorted(arr,key = lambda x:(d[x],x) )"
   ]
  },
  {
   "cell_type": "markdown",
   "id": "c2cc1679",
   "metadata": {},
   "source": [
    "# 3.Single Number III\n",
    "**Given an integer array nums, in which exactly two elements appear only once and all the other elements appear exactly twice. Find the two elements that appear only once. You can return the answer in any order.\n",
    "**"
   ]
  },
  {
   "cell_type": "code",
   "execution_count": 19,
   "id": "a34133a3",
   "metadata": {},
   "outputs": [],
   "source": [
    "import collections\n",
    "class Solution:\n",
    "    def singleNumber(self, nums: list[int]) -> list[int]:\n",
    "        res = collections.defaultdict(int)\n",
    "        r = []\n",
    "        for i in nums:\n",
    "            res[i] += 1\n",
    "        for i in res:\n",
    "            if res[i] == 1:\n",
    "                r.append(i)\n",
    "        return r"
   ]
  },
  {
   "cell_type": "markdown",
   "id": "5646fa87",
   "metadata": {},
   "source": [
    "# 4.Given an integer array nums of unique elements, return all possible \n",
    "subsets\n",
    " (the power set).\n",
    "The solution set must not contain duplicate subsets. Return the solution in any order."
   ]
  },
  {
   "cell_type": "code",
   "execution_count": 23,
   "id": "ec515660",
   "metadata": {},
   "outputs": [],
   "source": [
    "from itertools import combinations\n",
    "class Solution:\n",
    "    def subsets(self, nums: list[int]) -> list[list[int]]:\n",
    "        res = [[]]\n",
    "        for i in range(1,len(nums)+1):\n",
    "            res += combinations(nums,i)\n",
    "        return res"
   ]
  },
  {
   "cell_type": "code",
   "execution_count": null,
   "id": "c30fd39c",
   "metadata": {},
   "outputs": [],
   "source": []
  }
 ],
 "metadata": {
  "kernelspec": {
   "display_name": "Python 3 (ipykernel)",
   "language": "python",
   "name": "python3"
  },
  "language_info": {
   "codemirror_mode": {
    "name": "ipython",
    "version": 3
   },
   "file_extension": ".py",
   "mimetype": "text/x-python",
   "name": "python",
   "nbconvert_exporter": "python",
   "pygments_lexer": "ipython3",
   "version": "3.9.12"
  }
 },
 "nbformat": 4,
 "nbformat_minor": 5
}
